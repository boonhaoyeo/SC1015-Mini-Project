{
 "cells": [
  {
   "cell_type": "markdown",
   "id": "399f6ddf",
   "metadata": {},
   "source": [
    "# Using K Nearest Neighbour "
   ]
  },
  {
   "cell_type": "code",
   "execution_count": 45,
   "id": "72bca72d",
   "metadata": {},
   "outputs": [
    {
     "data": {
      "text/plain": [
       "(4238, 74)"
      ]
     },
     "execution_count": 45,
     "metadata": {},
     "output_type": "execute_result"
    }
   ],
   "source": [
    "import numpy as np\n",
    "import pandas as pd\n",
    "import seaborn as sb\n",
    "import matplotlib.pyplot as plt # we only need pyplot\n",
    "from sklearn.linear_model import LinearRegression\n",
    "sb.set() # set the default Seaborn style for graphics\n",
    "\n",
    "from textblob import TextBlob\n",
    "from sklearn.metrics import confusion_matrix\n",
    "from sklearn.linear_model import LinearRegression\n",
    "from sklearn.neighbors import KNeighborsClassifier\n",
    "from sklearn.model_selection import train_test_split\n",
    "from sklearn.metrics import mean_squared_error\n",
    "from sklearn.preprocessing import StandardScaler\n",
    "from scipy import stats\n",
    "from sklearn.metrics import accuracy_score\n",
    "\n",
    "from collections import Counter\n",
    "air_data = pd.read_csv(\"listings_june.csv\")\n",
    "air_data.shape\n"
   ]
  },
  {
   "cell_type": "code",
   "execution_count": 46,
   "id": "1c0a0bb7",
   "metadata": {},
   "outputs": [
    {
     "name": "stderr",
     "output_type": "stream",
     "text": [
      "C:\\Users\\junwe\\AppData\\Local\\Temp/ipykernel_5992/3400756641.py:1: FutureWarning: The default value of regex will change from True to False in a future version. In addition, single character regular expressions will *not* be treated as literal strings when regex=True.\n",
      "  air_data[\"price\"]=air_data['price'].str.replace(',', '').str.replace('$', '')\n"
     ]
    }
   ],
   "source": [
    "air_data[\"price\"]=air_data['price'].str.replace(',', '').str.replace('$', '')\n",
    "air_data[\"price\"] = pd.to_numeric(air_data[\"price\"], downcast='float')"
   ]
  },
  {
   "cell_type": "code",
   "execution_count": 47,
   "id": "c0055d12",
   "metadata": {},
   "outputs": [
    {
     "data": {
      "text/plain": [
       "0    9\n",
       "1    8\n",
       "2    9\n",
       "3    5\n",
       "4    5\n",
       "Name: num_of_veri, dtype: int64"
      ]
     },
     "execution_count": 47,
     "metadata": {},
     "output_type": "execute_result"
    }
   ],
   "source": [
    "air_data[\"num_of_veri\"]= air_data[\"host_verifications\"].apply(lambda n: len(n.split(',')))\n",
    "air_data[\"num_of_veri\"].head()"
   ]
  },
  {
   "cell_type": "code",
   "execution_count": 48,
   "id": "c9186e80",
   "metadata": {},
   "outputs": [
    {
     "data": {
      "text/plain": [
       "0     7\n",
       "1    12\n",
       "2     8\n",
       "3    25\n",
       "4    21\n",
       "Name: num_of_amenities, dtype: int64"
      ]
     },
     "execution_count": 48,
     "metadata": {},
     "output_type": "execute_result"
    }
   ],
   "source": [
    "air_data[\"num_of_amenities\"]= air_data[\"amenities\"].apply(lambda n: len(n.split(\",\")))\n",
    "air_data[\"num_of_amenities\"].head()"
   ]
  },
  {
   "cell_type": "code",
   "execution_count": 49,
   "id": "0a14203c",
   "metadata": {},
   "outputs": [],
   "source": [
    "air_data[\"new_ratings\"]=air_data[\"review_scores_rating\"].apply(np.floor)\n",
    "air_data[\"host_is_superhost\"]=air_data['host_is_superhost'].fillna('f')\n"
   ]
  },
  {
   "cell_type": "code",
   "execution_count": 50,
   "id": "f0febbb5",
   "metadata": {},
   "outputs": [],
   "source": [
    "possible = pd.DataFrame(air_data[['host_total_listings_count','accommodates','num_of_veri','num_of_amenities','price','new_ratings','host_is_superhost']])\n",
    "replace = ['host_total_listings_count','accommodates','num_of_veri','num_of_amenities','price','new_ratings']"
   ]
  },
  {
   "cell_type": "code",
   "execution_count": 51,
   "id": "f05b9537",
   "metadata": {},
   "outputs": [],
   "source": [
    "for col in replace:\n",
    "    possible[col] = possible[col].replace(0,np.NaN)\n",
    "    mean = int(possible[col].median(skipna=True))\n",
    "    possible[col] = possible[col].replace(np.NaN,mean)"
   ]
  },
  {
   "cell_type": "code",
   "execution_count": 52,
   "id": "9f4afe94",
   "metadata": {},
   "outputs": [
    {
     "data": {
      "text/plain": [
       "0       5.0\n",
       "1       4.0\n",
       "2       4.0\n",
       "3       4.0\n",
       "4       4.0\n",
       "       ... \n",
       "4233    4.0\n",
       "4234    4.0\n",
       "4235    4.0\n",
       "4236    4.0\n",
       "4237    4.0\n",
       "Name: new_ratings, Length: 4238, dtype: float64"
      ]
     },
     "execution_count": 52,
     "metadata": {},
     "output_type": "execute_result"
    }
   ],
   "source": [
    "possible['new_ratings']"
   ]
  },
  {
   "cell_type": "code",
   "execution_count": 53,
   "id": "f9bc1b9a",
   "metadata": {},
   "outputs": [],
   "source": [
    "X = possible.iloc[:,0:6]"
   ]
  },
  {
   "cell_type": "code",
   "execution_count": 54,
   "id": "3758da4e",
   "metadata": {},
   "outputs": [
    {
     "data": {
      "text/plain": [
       "<bound method NDFrame.head of       host_total_listings_count  accommodates  num_of_veri  num_of_amenities  \\\n",
       "0                           2.0           1.0            9                 7   \n",
       "1                           1.0           2.0            8                12   \n",
       "2                           2.0           1.0            9                 8   \n",
       "3                           8.0           6.0            5                25   \n",
       "4                           8.0           3.0            5                21   \n",
       "...                         ...           ...          ...               ...   \n",
       "4233                        1.0           6.0            4                14   \n",
       "4234                        1.0           6.0            4                22   \n",
       "4235                        1.0           6.0            4                23   \n",
       "4236                        2.0           4.0            6                 6   \n",
       "4237                        1.0           2.0            4                28   \n",
       "\n",
       "      price  new_ratings  \n",
       "0      81.0          5.0  \n",
       "1      80.0          4.0  \n",
       "2      67.0          4.0  \n",
       "3     177.0          4.0  \n",
       "4      81.0          4.0  \n",
       "...     ...          ...  \n",
       "4233  188.0          4.0  \n",
       "4234  214.0          4.0  \n",
       "4235  320.0          4.0  \n",
       "4236  216.0          4.0  \n",
       "4237   75.0          4.0  \n",
       "\n",
       "[4238 rows x 6 columns]>"
      ]
     },
     "execution_count": 54,
     "metadata": {},
     "output_type": "execute_result"
    }
   ],
   "source": [
    "X.head"
   ]
  },
  {
   "cell_type": "code",
   "execution_count": 55,
   "id": "1c0d7a58",
   "metadata": {},
   "outputs": [
    {
     "data": {
      "text/plain": [
       "<bound method NDFrame.head of 0       f\n",
       "1       f\n",
       "2       f\n",
       "3       f\n",
       "4       f\n",
       "       ..\n",
       "4233    f\n",
       "4234    f\n",
       "4235    f\n",
       "4236    t\n",
       "4237    f\n",
       "Name: host_is_superhost, Length: 4238, dtype: object>"
      ]
     },
     "execution_count": 55,
     "metadata": {},
     "output_type": "execute_result"
    }
   ],
   "source": [
    "y=  possible.iloc[:,6]\n",
    "y.head"
   ]
  },
  {
   "cell_type": "code",
   "execution_count": 56,
   "id": "f95d5a90",
   "metadata": {},
   "outputs": [],
   "source": [
    "x_train, x_test, y_train, y_test = train_test_split(X, y,random_state=0, test_size = 0.20)\n"
   ]
  },
  {
   "cell_type": "code",
   "execution_count": 57,
   "id": "d04076bf",
   "metadata": {},
   "outputs": [],
   "source": [
    "#Feature Scaling all data is now -1 and 1 \n",
    "sc_X = StandardScaler()\n",
    "x_train=sc_X.fit_transform(x_train)\n",
    "x_test = sc_X.transform(x_test)"
   ]
  },
  {
   "cell_type": "code",
   "execution_count": 58,
   "id": "dabf27fa",
   "metadata": {},
   "outputs": [
    {
     "data": {
      "text/plain": [
       "KNeighborsClassifier(metric='euclidean', n_neighbors=11)"
      ]
     },
     "execution_count": 58,
     "metadata": {},
     "output_type": "execute_result"
    }
   ],
   "source": [
    "# Defining model: K-NN\n",
    "classifier = KNeighborsClassifier(n_neighbors=11,p=2,metric = 'euclidean')\n",
    "# Fitting Moddl\n",
    "classifier.fit(x_train,y_train)"
   ]
  },
  {
   "cell_type": "code",
   "execution_count": 59,
   "id": "2b956324",
   "metadata": {},
   "outputs": [
    {
     "name": "stdout",
     "output_type": "stream",
     "text": [
      "[[670  44]\n",
      " [ 80  54]]\n"
     ]
    }
   ],
   "source": [
    "#predicting test \n",
    "y_pred_test = classifier.predict(x_test)\n",
    "y_pred_train = classifier.predict(x_train)\n",
    "\n",
    "cm = confusion_matrix(y_test,y_pred)\n",
    "print(cm)"
   ]
  },
  {
   "cell_type": "code",
   "execution_count": 60,
   "id": "860c14a5",
   "metadata": {},
   "outputs": [
    {
     "data": {
      "text/plain": [
       "<AxesSubplot:>"
      ]
     },
     "execution_count": 60,
     "metadata": {},
     "output_type": "execute_result"
    },
    {
     "data": {
      "image/png": "[encoded data removed]",
      "text/plain": [
       "<Figure size 864x288 with 4 Axes>"
      ]
     },
     "metadata": {},
     "output_type": "display_data"
    }
   ],
   "source": [
    "f, axes = plt.subplots(1, 2, figsize=(12, 4))\n",
    "sb.heatmap(confusion_matrix(y_test, y_pred_test),\n",
    "           annot = True, fmt=\".0f\", annot_kws={\"size\": 18}, ax = axes[0])\n",
    "sb.heatmap(confusion_matrix(y_train, y_pred_train),\n",
    "           annot = True, fmt=\".0f\", annot_kws={\"size\": 18}, ax = axes[1])"
   ]
  },
  {
   "cell_type": "code",
   "execution_count": 61,
   "id": "ef9d0de3",
   "metadata": {},
   "outputs": [
    {
     "name": "stdout",
     "output_type": "stream",
     "text": [
      "0.8537735849056604\n"
     ]
    }
   ],
   "source": [
    "print(accuracy_score(y_test,y_pred_test))"
   ]
  },
  {
   "cell_type": "code",
   "execution_count": 65,
   "id": "4ebd9afc",
   "metadata": {},
   "outputs": [
    {
     "name": "stdout",
     "output_type": "stream",
     "text": [
      "True Positive Rate for Year is  (Depth = 4/Train Data): 0.5505836575875487\n",
      "False Positive Rate for Year is (Depth = 4/Train Data): 0.032336578581363004\n"
     ]
    }
   ],
   "source": [
    "FP = confusion_matrix(y_train, y_pred_train).sum(axis=0) - np.diag(confusion_matrix(y_train, y_pred_train))  \n",
    "FN = confusion_matrix(y_train, y_pred_train).sum(axis=1) - np.diag(confusion_matrix(y_train, y_pred_train))\n",
    "TP = np.diag(confusion_matrix(y_train, y_pred_train))\n",
    "TN = confusion_matrix(y_train, y_pred_train).sum() - (FP + FN + TP)\n",
    "\n",
    "# Sensitivity, hit rate, recall, or true positive rate\n",
    "TPR = TP/(TP+FN)\n",
    "# False negative rate\n",
    "FNR = FN/(TP+FN)\n",
    "\n",
    "print(\"True Positive Rate for Year is  (Depth = 4/Train Data): \"+str(TPR[1]))\n",
    "print(\"False Positive Rate for Year is (Depth = 4/Train Data): \"+str(FNR[0]))"
   ]
  },
  {
   "cell_type": "code",
   "execution_count": 67,
   "id": "6fedffef",
   "metadata": {},
   "outputs": [
    {
     "name": "stdout",
     "output_type": "stream",
     "text": [
      "True Positive Rate for Year is  (Depth = 4/Train Data): 0.40298507462686567\n",
      "False Positive Rate for Year is (Depth = 4/Train Data): 0.06162464985994398\n"
     ]
    }
   ],
   "source": [
    "FP = confusion_matrix(y_test,y_pred_test).sum(axis=0) - np.diag(confusion_matrix(y_test,y_pred_test))  \n",
    "FN = confusion_matrix(y_test,y_pred_test).sum(axis=1) - np.diag(confusion_matrix(y_test,y_pred_test))\n",
    "TP = np.diag(confusion_matrix(y_test,y_pred_test))\n",
    "TN = confusion_matrix(y_test,y_pred_test).sum() - (FP + FN + TP)\n",
    "\n",
    "# Sensitivity, hit rate, recall, or true positive rate\n",
    "TPR = TP/(TP+FN)\n",
    "# False negative rate\n",
    "FNR = FN/(TP+FN)\n",
    "print(\"True Positive Rate for Year is  (Depth = 4/Train Data): \"+str(TPR[1]))\n",
    "print(\"False Positive Rate for Year is (Depth = 4/Train Data): \"+str(FNR[0]))"
   ]
  },
  {
   "cell_type": "code",
   "execution_count": null,
   "id": "c28fd37a",
   "metadata": {},
   "outputs": [],
   "source": []
  }
 ],
 "metadata": {
  "kernelspec": {
   "display_name": "Python 3 (ipykernel)",
   "language": "python",
   "name": "python3"
  },
  "language_info": {
   "codemirror_mode": {
    "name": "ipython",
    "version": 3
   },
   "file_extension": ".py",
   "mimetype": "text/x-python",
   "name": "python",
   "nbconvert_exporter": "python",
   "pygments_lexer": "ipython3",
   "version": "3.9.7"
  }
 },
 "nbformat": 4,
 "nbformat_minor": 5
}
